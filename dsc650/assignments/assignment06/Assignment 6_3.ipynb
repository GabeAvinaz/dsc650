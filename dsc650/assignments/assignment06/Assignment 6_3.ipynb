{
 "cells": [
  {
   "attachments": {},
   "cell_type": "markdown",
   "metadata": {},
   "source": [
    "Gabriel Avinaz\n",
    "\n",
    "Week 6\n",
    "\n",
    "4/17/23\n",
    "\n",
    "## Assignment 6.3\n",
    "### Assignment 6.3"
   ]
  },
  {
   "cell_type": "code",
   "execution_count": 12,
   "metadata": {},
   "outputs": [],
   "source": [
    "import os\n",
    "import numpy as np\n",
    "import keras.utils as image\n",
    "from keras.applications.resnet import preprocess_input, decode_predictions\n",
    "from keras.applications.resnet import ResNet50"
   ]
  },
  {
   "cell_type": "code",
   "execution_count": 18,
   "metadata": {},
   "outputs": [
    {
     "name": "stdout",
     "output_type": "stream",
     "text": [
      "1/1 [==============================] - 1s 964ms/step\n",
      "images\\Image01 - barnabas-lartey-odoi-tetteh-5pGFc1XssnQ-unsplash.jpg\n",
      "Predicted:[('n04418357', 'theater_curtain', 0.4265667), ('n10148035', 'groom', 0.15048657), ('n04296562', 'stage', 0.06629443)]\n",
      "1/1 [==============================] - 0s 64ms/step\n",
      "images\\Image02 - carson-arias-7Z03R1wOdmI-unsplash.jpg\n",
      "Predicted:[('n12144580', 'corn', 0.82925004), ('n03461385', 'grocery_store', 0.069001734), ('n13133613', 'ear', 0.047845177)]\n",
      "1/1 [==============================] - 0s 69ms/step\n",
      "images\\Image03 - chris-murray-YGzEX5yLKeA-unsplash.jpg\n",
      "Predicted:[('n03854065', 'organ', 0.4135437), ('n02804610', 'bassoon', 0.17994459), ('n04429376', 'throne', 0.08640079)]\n",
      "1/1 [==============================] - 0s 67ms/step\n",
      "images\\Image04 - florian-klauer-mk7D-4UCfmg-unsplash.jpg\n",
      "Predicted:[('n04505470', 'typewriter_keyboard', 0.786011), ('n04264628', 'space_bar', 0.21350463), ('n04179913', 'sewing_machine', 0.00041820377)]\n",
      "1/1 [==============================] - 0s 66ms/step\n",
      "images\\Image05 - florian-klauer-nptLmg6jqDo-unsplash.jpg\n",
      "Predicted:[('n04562935', 'water_tower', 0.38155386), ('n02782093', 'balloon', 0.15957569), ('n04099969', 'rocking_chair', 0.15699895)]\n",
      "1/1 [==============================] - 0s 76ms/step\n",
      "images\\Image06 - ian-dooley-TLD6iCOlyb0-unsplash.jpg\n",
      "Predicted:[('n07614500', 'ice_cream', 0.9862098), ('n07836838', 'chocolate_sauce', 0.0023317419), ('n01943899', 'conch', 0.0017338828)]\n",
      "1/1 [==============================] - 0s 65ms/step\n",
      "images\\Image07 - kamran-abdullayev-SCoI5tdGJ_M-unsplash.jpg\n",
      "Predicted:[('n09428293', 'seashore', 0.6766016), ('n04435653', 'tile_roof', 0.11591151), ('n03220513', 'dome', 0.03964423)]\n",
      "1/1 [==============================] - 0s 69ms/step\n",
      "images\\Image08 - obi-pixel7propix-SCUPx5far-M-unsplash.jpg\n",
      "Predicted:[('n03179701', 'desk', 0.31576914), ('n04118776', 'rule', 0.26920524), ('n04116512', 'rubber_eraser', 0.23627788)]\n",
      "1/1 [==============================] - 0s 72ms/step\n",
      "images\\Image09 - sumit-sourav-eSRtxPd9q1c-unsplash.jpg\n",
      "Predicted:[('n09428293', 'seashore', 0.93850696), ('n09421951', 'sandbar', 0.0129406415), ('n09332890', 'lakeside', 0.008623507)]\n",
      "1/1 [==============================] - 0s 74ms/step\n",
      "images\\Image10 - warren-wong-bh4LQHcOcxE-unsplash.jpg\n",
      "Predicted:[('n02807133', 'bathing_cap', 0.11702942), ('n03450230', 'gown', 0.085696526), ('n04507155', 'umbrella', 0.07690246)]\n"
     ]
    }
   ],
   "source": [
    "model = ResNet50(weights='imagenet')\n",
    "\n",
    "file_path = 'images'\n",
    "output = []\n",
    "for file in os.listdir(file_path):\n",
    "    img_file = os.path.join(file_path, file)\n",
    "    img = image.load_img(img_file, target_size=(224, 224))\n",
    "    x = image.img_to_array(img)\n",
    "    x = np.expand_dims(x, axis=0)\n",
    "    x = preprocess_input(x)\n",
    "\n",
    "    preds = model.predict(x)\n",
    "    pred_name = str(img_file)\n",
    "    pred_info = str('Predicted:' + str(decode_predictions(preds, top=3)[0]))\n",
    "    print(pred_name)\n",
    "    print(pred_info)\n",
    "    output.append(pred_name)\n",
    "    output.append(pred_info)\n"
   ]
  },
  {
   "cell_type": "code",
   "execution_count": 19,
   "metadata": {},
   "outputs": [],
   "source": [
    "\n",
    "\n",
    "out_file = 'results/predictions/resnet50/predictions.txt'\n",
    "os.makedirs(os.path.dirname(out_file), exist_ok=True)\n",
    "with open(out_file, 'w') as f:\n",
    "    for line in output:\n",
    "        f.write(\"%s\\n\" % line)"
   ]
  }
 ],
 "metadata": {
  "kernelspec": {
   "display_name": "base",
   "language": "python",
   "name": "python3"
  },
  "language_info": {
   "codemirror_mode": {
    "name": "ipython",
    "version": 3
   },
   "file_extension": ".py",
   "mimetype": "text/x-python",
   "name": "python",
   "nbconvert_exporter": "python",
   "pygments_lexer": "ipython3",
   "version": "3.9.13"
  },
  "orig_nbformat": 4
 },
 "nbformat": 4,
 "nbformat_minor": 2
}
