{
 "cells": [
  {
   "cell_type": "code",
   "execution_count": 22,
   "metadata": {
    "tags": []
   },
   "outputs": [],
   "source": [
    "import json\n",
    "import uuid\n",
    "import heapq\n",
    "import time\n",
    "from kafka import KafkaProducer, KafkaAdminClient\n",
    "from kafka.admin.new_topic import NewTopic\n",
    "from kafka.errors import TopicAlreadyExistsError"
   ]
  },
  {
   "attachments": {},
   "cell_type": "markdown",
   "metadata": {},
   "source": [
    "### Configuration Parameters \n",
    "\n",
    "> **TODO:** Change the configuration prameters to the appropriate values for your setup."
   ]
  },
  {
   "cell_type": "code",
   "execution_count": 3,
   "metadata": {
    "tags": []
   },
   "outputs": [
    {
     "data": {
      "text/plain": [
       "{'bootstrap_servers': ['kafka.kafka.svc.cluster.local:9092'],\n",
       " 'first_name': 'Gabriel',\n",
       " 'last_name': 'Avinaz',\n",
       " 'client_id': 'AvinazGabriel',\n",
       " 'topic_prefix': 'AvinazGabriel'}"
      ]
     },
     "execution_count": 3,
     "metadata": {},
     "output_type": "execute_result"
    }
   ],
   "source": [
    "config = dict(\n",
    "    bootstrap_servers=['kafka.kafka.svc.cluster.local:9092'],\n",
    "    first_name='Gabriel',\n",
    "    last_name='Avinaz'\n",
    ")\n",
    "\n",
    "config['client_id'] = '{}{}'.format(\n",
    "    config['last_name'], \n",
    "    config['first_name']\n",
    ")\n",
    "config['topic_prefix'] = '{}{}'.format(\n",
    "    config['last_name'], \n",
    "    config['first_name']\n",
    ")\n",
    "\n",
    "config"
   ]
  },
  {
   "attachments": {},
   "cell_type": "markdown",
   "metadata": {},
   "source": [
    "### Create Topic Utility Function\n",
    "\n",
    "The `create_kafka_topic` helps create a Kafka topic based on your configuration settings.  For instance, if your first name is *John* and your last name is *Doe*, `create_kafka_topic('locations')` will create a topic with the name `DoeJohn-locations`.  The function will not create the topic if it already exists. "
   ]
  },
  {
   "cell_type": "code",
   "execution_count": 4,
   "metadata": {
    "tags": []
   },
   "outputs": [
    {
     "name": "stdout",
     "output_type": "stream",
     "text": [
      "Topic \"AvinazGabriel-locations\" already exists\n",
      "Topic \"AvinazGabriel-accelerations\" already exists\n"
     ]
    }
   ],
   "source": [
    "def create_kafka_topic(topic_name, config=config, num_partitions=1, replication_factor=1):\n",
    "    bootstrap_servers = config['bootstrap_servers']\n",
    "    client_id = config['client_id']\n",
    "    topic_prefix = config['topic_prefix']\n",
    "    name = '{}-{}'.format(topic_prefix, topic_name)\n",
    "    \n",
    "    admin_client = KafkaAdminClient(\n",
    "        bootstrap_servers=bootstrap_servers, \n",
    "        client_id=client_id\n",
    "    )\n",
    "    \n",
    "    topic = NewTopic(\n",
    "        name=name,\n",
    "        num_partitions=num_partitions,\n",
    "        replication_factor=replication_factor\n",
    "    )\n",
    "\n",
    "    topic_list = [topic]\n",
    "    try:\n",
    "        admin_client.create_topics(new_topics=topic_list)\n",
    "        print('Created topic \"{}\"'.format(name))\n",
    "    except TopicAlreadyExistsError as e:\n",
    "        print('Topic \"{}\" already exists'.format(name))\n",
    "    \n",
    "create_kafka_topic('locations')\n",
    "create_kafka_topic('accelerations')"
   ]
  },
  {
   "attachments": {},
   "cell_type": "markdown",
   "metadata": {},
   "source": [
    "### Kafka Producer\n",
    "\n",
    "The following code creates a `KafkaProducer` object which you can use to send Python objects that are serialized as JSON.\n",
    "\n",
    "**Note:** This producer serializes Python objects as JSON. This means that object must be JSON serializable.  As an example, Python `DateTime` values are not JSON serializable and must be converted to a string (e.g. ISO 8601) or a numeric value (e.g. a Unix timestamp) before being sent."
   ]
  },
  {
   "cell_type": "code",
   "execution_count": 5,
   "metadata": {
    "tags": []
   },
   "outputs": [],
   "source": [
    "producer = KafkaProducer(\n",
    "  bootstrap_servers=config['bootstrap_servers'],\n",
    "  value_serializer=lambda x: json.dumps(x).encode('utf-8')\n",
    ")"
   ]
  },
  {
   "attachments": {},
   "cell_type": "markdown",
   "metadata": {},
   "source": [
    "### Send Data Function\n",
    "\n",
    "The `send_data` function sends a Python object to a Kafka topic. This function adds the `topic_prefix` to the topic so `send_data('locations', data)` sends a JSON serialized message to `DoeJohn-locations`. The function also registers callbacks to let you know if the message has been sent or if an error has occured. "
   ]
  },
  {
   "cell_type": "code",
   "execution_count": 6,
   "metadata": {
    "tags": []
   },
   "outputs": [],
   "source": [
    "def on_send_success(record_metadata):\n",
    "    print('Message sent:\\n    Topic: \"{}\"\\n    Partition: {}\\n    Offset: {}'.format(\n",
    "        record_metadata.topic,\n",
    "        record_metadata.partition,\n",
    "        record_metadata.offset\n",
    "    ))\n",
    "    \n",
    "def on_send_error(excp):\n",
    "    print('I am an errback', exc_info=excp)\n",
    "    # handle exception\n",
    "\n",
    "def send_data(topic, data, config=config, producer=producer, msg_key=None):\n",
    "    topic_prefix = config['topic_prefix']\n",
    "    topic_name = '{}-{}'.format(topic_prefix, topic)\n",
    "    \n",
    "    if msg_key is not None:\n",
    "        key = msg_key\n",
    "    else:\n",
    "        key = uuid.uuid4().hex\n",
    "    \n",
    "    producer.send(\n",
    "        topic_name, \n",
    "        value=data,\n",
    "        key=key.encode('utf-8')\n",
    "    ).add_callback(on_send_success).add_errback(on_send_error)"
   ]
  },
  {
   "cell_type": "code",
   "execution_count": 7,
   "metadata": {
    "tags": []
   },
   "outputs": [],
   "source": [
    "data_dir = \"../../../data/processed/bdd/\"\n",
    "from pyspark.sql import SparkSession\n",
    "from pyspark.sql.functions import to_json\n",
    "from pyspark.sql.types import StructType, StructField, StringType, IntegerType\n",
    "\n"
   ]
  },
  {
   "attachments": {},
   "cell_type": "markdown",
   "metadata": {},
   "source": [
    "## Assignment 8"
   ]
  },
  {
   "attachments": {},
   "cell_type": "markdown",
   "metadata": {},
   "source": [
    "### Loading Locations"
   ]
  },
  {
   "cell_type": "code",
   "execution_count": 15,
   "metadata": {
    "tags": []
   },
   "outputs": [
    {
     "name": "stdout",
     "output_type": "stream",
     "text": [
      "+--------------------+--------------------+--------------------+--------------------+------------------+-------------+------------------+------------------+------------+------------------+--------+---------+--------------------+----+\n",
      "|                  id|             ride_id|                uuid|           timestamp|            offset|       course|          latitude|         longitude|     geohash|             speed|accuracy|timelapse|            filename|   t|\n",
      "+--------------------+--------------------+--------------------+--------------------+------------------+-------------+------------------+------------------+------------+------------------+--------+---------+--------------------+----+\n",
      "|85c61911b7fe2ced1...|6760ffa3f41908695...|dad7eae44e784b549...|1970-01-01 00:25:...|1.0779125295566454|   158.203125|   40.677641336844|-73.81793000742218|dr5x2jpkmtcy| 2.119999885559082|    10.0|    false|d745b92f-aefd-467...| 0.0|\n",
      "|58682c5d48cad9d9e...|c9a2b46c9aa515b63...|19b9aa10588646b3b...|1970-01-01 00:25:...| 1.525060886522843|299.619140625| 40.76287002542555|-73.96194855681718|dr5ruuwscttz|               0.0|    10.0|    false|e2f795a7-6a7d-450...| 0.0|\n",
      "|85c61911b7fe2ced1...|6760ffa3f41908695...|dad7eae44e784b549...|1970-01-01 00:25:...| 5.077912529556645|  159.9609375| 40.67788281947438|-73.81804710260948|dr5x2jpmfffw|             11.75|    10.0|    false|d745b92f-aefd-467...| 4.5|\n",
      "|58682c5d48cad9d9e...|c9a2b46c9aa515b63...|19b9aa10588646b3b...|1970-01-01 00:25:...|4.5250608865228426|299.619140625| 40.76287038067684|-73.96194937863832|dr5ruuwsctv3|               0.0|    10.0|    false|e2f795a7-6a7d-450...| 4.5|\n",
      "|85c61911b7fe2ced1...|6760ffa3f41908695...|dad7eae44e784b549...|1970-01-01 00:25:...| 8.077912529556645|   159.609375| 40.67819106396351|-73.81819261244854|dr5x2jppxkqj|13.149999618530273|    10.0|    false|d745b92f-aefd-467...| 7.8|\n",
      "|58682c5d48cad9d9e...|c9a2b46c9aa515b63...|19b9aa10588646b3b...|1970-01-01 00:25:...| 8.525060886522843|299.619140625| 40.76286948909357|-73.96194731609269|dr5ruuwsctwg|               0.0|    10.0|    false|e2f795a7-6a7d-450...| 7.8|\n",
      "|58682c5d48cad9d9e...|c9a2b46c9aa515b63...|19b9aa10588646b3b...|1970-01-01 00:25:...|11.525060886522843|299.619140625|40.762862338920996|-73.96193077522916|dr5ruuwsfh71|1.5099999904632568|    10.0|    false|e2f795a7-6a7d-450...|10.6|\n",
      "|85c61911b7fe2ced1...|6760ffa3f41908695...|dad7eae44e784b549...|1970-01-01 00:25:...|11.077912529556645|   159.609375|40.678531159684695|-73.81836075342616|dr5x2jr1eebd|13.800000190734863|    10.0|    false|d745b92f-aefd-467...|10.6|\n",
      "|85c61911b7fe2ced1...|6760ffa3f41908695...|dad7eae44e784b549...|1970-01-01 00:25:...|12.077912529556645|   161.015625|40.678637903221585|-73.81842395297608|dr5x2jr44p9x|14.210000038146973|    10.0|    false|d745b92f-aefd-467...|10.6|\n",
      "|58682c5d48cad9d9e...|c9a2b46c9aa515b63...|19b9aa10588646b3b...|1970-01-01 00:25:...|15.525060886522843|299.619140625| 40.76281643742535|-73.96182458892834|dr5ruuwssedr|  4.46999979019165|    10.0|    false|e2f795a7-6a7d-450...|14.9|\n",
      "+--------------------+--------------------+--------------------+--------------------+------------------+-------------+------------------+------------------+------------+------------------+--------+---------+--------------------+----+\n",
      "only showing top 10 rows\n",
      "\n"
     ]
    }
   ],
   "source": [
    "spark = SparkSession.builder.appName(\"ParquetToLocations\").getOrCreate()\n",
    "locations_df = spark.read.format(\"parquet\").load(data_dir + \"locations/\")\n",
    "locations_df = locations_df.sort(\"t\")\n",
    "locations_df.show(10)"
   ]
  },
  {
   "cell_type": "code",
   "execution_count": 20,
   "metadata": {
    "tags": []
   },
   "outputs": [
    {
     "data": {
      "text/plain": [
       "[0.0, 0.0, 4.5, 4.5, 7.8, 7.8, 10.6, 10.6, 10.6, 14.9]"
      ]
     },
     "execution_count": 20,
     "metadata": {},
     "output_type": "execute_result"
    }
   ],
   "source": [
    "t_locations_df = [row.t for row in locations_df.select(\"t\").collect()]\n",
    "t_locations_df[:10]"
   ]
  },
  {
   "cell_type": "code",
   "execution_count": 21,
   "metadata": {
    "tags": []
   },
   "outputs": [
    {
     "data": {
      "text/plain": [
       "['{\"id\":\"85c61911b7fe2ced1000c33c9e932706\",\"ride_id\":\"6760ffa3f41908695d1405b776c3e8d5\",\"uuid\":\"dad7eae44e784b549c8c5a3aa051a8c7\",\"timestamp\":\"1970-01-01T00:25:07.320Z\",\"offset\":1.0779125295566454,\"course\":158.203125,\"latitude\":40.677641336844,\"longitude\":-73.81793000742218,\"geohash\":\"dr5x2jpkmtcy\",\"speed\":2.119999885559082,\"accuracy\":10.0,\"timelapse\":false,\"filename\":\"d745b92f-aefd-467d-9121-7a71308e8d6d.mov\",\"t\":0.0}',\n",
       " '{\"id\":\"58682c5d48cad9d9e103431d773615bf\",\"ride_id\":\"c9a2b46c9aa515b632eddc45c4868482\",\"uuid\":\"19b9aa10588646b3bf22c9b4865a7995\",\"timestamp\":\"1970-01-01T00:25:03.882Z\",\"offset\":1.525060886522843,\"course\":299.619140625,\"latitude\":40.76287002542555,\"longitude\":-73.96194855681718,\"geohash\":\"dr5ruuwscttz\",\"speed\":0.0,\"accuracy\":10.0,\"timelapse\":false,\"filename\":\"e2f795a7-6a7d-4500-b5d7-4569de996811.mov\",\"t\":0.0}',\n",
       " '{\"id\":\"85c61911b7fe2ced1000c33c9e932706\",\"ride_id\":\"6760ffa3f41908695d1405b776c3e8d5\",\"uuid\":\"dad7eae44e784b549c8c5a3aa051a8c7\",\"timestamp\":\"1970-01-01T00:25:07.320Z\",\"offset\":5.077912529556645,\"course\":159.9609375,\"latitude\":40.67788281947438,\"longitude\":-73.81804710260948,\"geohash\":\"dr5x2jpmfffw\",\"speed\":11.75,\"accuracy\":10.0,\"timelapse\":false,\"filename\":\"d745b92f-aefd-467d-9121-7a71308e8d6d.mov\",\"t\":4.5}',\n",
       " '{\"id\":\"58682c5d48cad9d9e103431d773615bf\",\"ride_id\":\"c9a2b46c9aa515b632eddc45c4868482\",\"uuid\":\"19b9aa10588646b3bf22c9b4865a7995\",\"timestamp\":\"1970-01-01T00:25:03.882Z\",\"offset\":4.5250608865228426,\"course\":299.619140625,\"latitude\":40.76287038067684,\"longitude\":-73.96194937863832,\"geohash\":\"dr5ruuwsctv3\",\"speed\":0.0,\"accuracy\":10.0,\"timelapse\":false,\"filename\":\"e2f795a7-6a7d-4500-b5d7-4569de996811.mov\",\"t\":4.5}',\n",
       " '{\"id\":\"85c61911b7fe2ced1000c33c9e932706\",\"ride_id\":\"6760ffa3f41908695d1405b776c3e8d5\",\"uuid\":\"dad7eae44e784b549c8c5a3aa051a8c7\",\"timestamp\":\"1970-01-01T00:25:07.320Z\",\"offset\":8.077912529556645,\"course\":159.609375,\"latitude\":40.67819106396351,\"longitude\":-73.81819261244854,\"geohash\":\"dr5x2jppxkqj\",\"speed\":13.149999618530273,\"accuracy\":10.0,\"timelapse\":false,\"filename\":\"d745b92f-aefd-467d-9121-7a71308e8d6d.mov\",\"t\":7.8}',\n",
       " '{\"id\":\"58682c5d48cad9d9e103431d773615bf\",\"ride_id\":\"c9a2b46c9aa515b632eddc45c4868482\",\"uuid\":\"19b9aa10588646b3bf22c9b4865a7995\",\"timestamp\":\"1970-01-01T00:25:03.882Z\",\"offset\":8.525060886522843,\"course\":299.619140625,\"latitude\":40.76286948909357,\"longitude\":-73.96194731609269,\"geohash\":\"dr5ruuwsctwg\",\"speed\":0.0,\"accuracy\":10.0,\"timelapse\":false,\"filename\":\"e2f795a7-6a7d-4500-b5d7-4569de996811.mov\",\"t\":7.8}',\n",
       " '{\"id\":\"85c61911b7fe2ced1000c33c9e932706\",\"ride_id\":\"6760ffa3f41908695d1405b776c3e8d5\",\"uuid\":\"dad7eae44e784b549c8c5a3aa051a8c7\",\"timestamp\":\"1970-01-01T00:25:07.320Z\",\"offset\":11.077912529556645,\"course\":159.609375,\"latitude\":40.678531159684695,\"longitude\":-73.81836075342616,\"geohash\":\"dr5x2jr1eebd\",\"speed\":13.800000190734863,\"accuracy\":10.0,\"timelapse\":false,\"filename\":\"d745b92f-aefd-467d-9121-7a71308e8d6d.mov\",\"t\":10.6}',\n",
       " '{\"id\":\"85c61911b7fe2ced1000c33c9e932706\",\"ride_id\":\"6760ffa3f41908695d1405b776c3e8d5\",\"uuid\":\"dad7eae44e784b549c8c5a3aa051a8c7\",\"timestamp\":\"1970-01-01T00:25:07.320Z\",\"offset\":12.077912529556645,\"course\":161.015625,\"latitude\":40.678637903221585,\"longitude\":-73.81842395297608,\"geohash\":\"dr5x2jr44p9x\",\"speed\":14.210000038146973,\"accuracy\":10.0,\"timelapse\":false,\"filename\":\"d745b92f-aefd-467d-9121-7a71308e8d6d.mov\",\"t\":10.6}',\n",
       " '{\"id\":\"58682c5d48cad9d9e103431d773615bf\",\"ride_id\":\"c9a2b46c9aa515b632eddc45c4868482\",\"uuid\":\"19b9aa10588646b3bf22c9b4865a7995\",\"timestamp\":\"1970-01-01T00:25:03.882Z\",\"offset\":11.525060886522843,\"course\":299.619140625,\"latitude\":40.762862338920996,\"longitude\":-73.96193077522916,\"geohash\":\"dr5ruuwsfh71\",\"speed\":1.5099999904632568,\"accuracy\":10.0,\"timelapse\":false,\"filename\":\"e2f795a7-6a7d-4500-b5d7-4569de996811.mov\",\"t\":10.6}',\n",
       " '{\"id\":\"85c61911b7fe2ced1000c33c9e932706\",\"ride_id\":\"6760ffa3f41908695d1405b776c3e8d5\",\"uuid\":\"dad7eae44e784b549c8c5a3aa051a8c7\",\"timestamp\":\"1970-01-01T00:25:07.320Z\",\"offset\":15.077912529556645,\"course\":161.3671875,\"latitude\":40.67896198950771,\"longitude\":-73.8185656909587,\"geohash\":\"dr5x2jqunspu\",\"speed\":10.90999984741211,\"accuracy\":10.0,\"timelapse\":false,\"filename\":\"d745b92f-aefd-467d-9121-7a71308e8d6d.mov\",\"t\":14.9}']"
      ]
     },
     "execution_count": 21,
     "metadata": {},
     "output_type": "execute_result"
    }
   ],
   "source": [
    "locations_json = locations_df.toJSON().collect()\n",
    "locations_json[:10]"
   ]
  },
  {
   "cell_type": "code",
   "execution_count": 1,
   "metadata": {
    "tags": []
   },
   "outputs": [
    {
     "ename": "NameError",
     "evalue": "name 'locations_json' is not defined",
     "output_type": "error",
     "traceback": [
      "\u001b[1;31m---------------------------------------------------------------------------\u001b[0m",
      "\u001b[1;31mNameError\u001b[0m                                 Traceback (most recent call last)",
      "Cell \u001b[1;32mIn[1], line 2\u001b[0m\n\u001b[0;32m      1\u001b[0m heap \u001b[39m=\u001b[39m []\n\u001b[1;32m----> 2\u001b[0m \u001b[39mfor\u001b[39;00m row \u001b[39min\u001b[39;00m \u001b[39mlist\u001b[39m(\u001b[39mzip\u001b[39m(locations_json, t_locations_df)):\n\u001b[0;32m      3\u001b[0m     heapq\u001b[39m.\u001b[39mheappush(heap, (time\u001b[39m.\u001b[39mtime() \u001b[39m+\u001b[39m row[\u001b[39m1\u001b[39m], row[\u001b[39m0\u001b[39m]))\n\u001b[0;32m      6\u001b[0m \u001b[39mwhile\u001b[39;00m heap:\n",
      "\u001b[1;31mNameError\u001b[0m: name 'locations_json' is not defined"
     ]
    }
   ],
   "source": [
    "heap = []\n",
    "for row in list(zip(locations_json, t_locations_df)):\n",
    "    heapq.heappush(heap, (time.time() + row[1], row[0]))\n",
    "\n",
    "\n",
    "while heap:\n",
    "    next_obj = heap[0]\n",
    "    next_time = next_obj[0]\n",
    "    if time.time() >= next_time:\n",
    "        obj = heapq.heappop(heap)[1]\n",
    "        send_data('locations', obj)\n",
    "    time.sleep(0.1)"
   ]
  },
  {
   "attachments": {},
   "cell_type": "markdown",
   "metadata": {},
   "source": [
    "### Loading Accelerations"
   ]
  },
  {
   "cell_type": "code",
   "execution_count": 41,
   "metadata": {
    "tags": []
   },
   "outputs": [],
   "source": [
    "spark = SparkSession.builder.appName(\"ParquetToAccelerations\").getOrCreate()\n",
    "accelerations_df = spark.read.format(\"parquet\").load(data_dir + \"accelerations/\")\n",
    "accelerations_df = accelerations_df.sort(\"t\")\n",
    "t_accelerations_df = [row.t for row in accelerations_df.select(\"t\").collect()]\n",
    "accelerations_json = locations_df.toJSON().collect()\n",
    "# for row in accelerations_json:\n",
    "#     send_data(\"accelerations\",json.loads(row))"
   ]
  },
  {
   "cell_type": "code",
   "execution_count": null,
   "metadata": {},
   "outputs": [],
   "source": [
    "heap = []\n",
    "for row in list(zip(locations_json, t_locations_df)):\n",
    "    heapq.heappush(heap, (time.time() + row[1], row[0]))\n",
    "\n",
    "while heap:\n",
    "    next_obj = heap[0]\n",
    "    next_time = next_obj[0]\n",
    "\n",
    "    if time.time() >= next_time:\n",
    "        obj = heapq.heappop(heap)[1]\n",
    "        send_data('accelerations', obj)\n",
    "\n",
    "    time.sleep(0.1)"
   ]
  }
 ],
 "metadata": {
  "kernelspec": {
   "display_name": "Python 3 (ipykernel)",
   "language": "python",
   "name": "python3"
  },
  "language_info": {
   "codemirror_mode": {
    "name": "ipython",
    "version": 3
   },
   "file_extension": ".py",
   "mimetype": "text/x-python",
   "name": "python",
   "nbconvert_exporter": "python",
   "pygments_lexer": "ipython3",
   "version": "3.9.13"
  }
 },
 "nbformat": 4,
 "nbformat_minor": 4
}
