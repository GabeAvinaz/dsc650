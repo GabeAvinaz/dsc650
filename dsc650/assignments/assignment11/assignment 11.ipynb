{
 "cells": [
  {
   "attachments": {},
   "cell_type": "markdown",
   "metadata": {},
   "source": [
    "## Assignment 11"
   ]
  },
  {
   "cell_type": "code",
   "execution_count": 25,
   "metadata": {},
   "outputs": [],
   "source": [
    "import numpy as np\n",
    "from keras.models import Sequential\n",
    "from keras.layers import LSTM, Dense\n",
    "from keras.callbacks import ModelCheckpoint\n",
    "from keras.optimizers import RMSprop"
   ]
  },
  {
   "cell_type": "code",
   "execution_count": 37,
   "metadata": {},
   "outputs": [
    {
     "name": "stdout",
     "output_type": "stream",
     "text": [
      "Corpus length: 1021113\n"
     ]
    }
   ],
   "source": [
    "text = open(\"01 - The Fellowship Of The Ring.txt\", 'r', encoding='latin-1').read().lower()\n",
    "print('Corpus length:', len(text))"
   ]
  },
  {
   "cell_type": "code",
   "execution_count": 38,
   "metadata": {},
   "outputs": [
    {
     "name": "stdout",
     "output_type": "stream",
     "text": [
      "Number of sequences: 340351\n",
      "Unique characters: 63\n",
      "Vectorization...\n"
     ]
    }
   ],
   "source": [
    "maxlen = 60\n",
    "step = 3\n",
    "sentences = []\n",
    "next_chars = []\n",
    "\n",
    "for i in range(0, len(text) - maxlen, step):\n",
    "    sentences.append(text[i: i + maxlen])\n",
    "    next_chars.append(text[i + maxlen])\n",
    "print('Number of sequences:', len(sentences))\n",
    "\n",
    "\n",
    "chars = sorted(list(set(text)))\n",
    "print('Unique characters:', len(chars))\n",
    "char_indices = dict((char, chars.index(char)) for char in chars)\n",
    "\n",
    "\n",
    "print('Vectorization...')\n",
    "x = np.zeros((len(sentences), maxlen, len(chars)), dtype=bool)\n",
    "y = np.zeros((len(sentences), len(chars)), dtype=bool)\n",
    "for i, sentence in enumerate(sentences):\n",
    "    for t, char in enumerate(sentence):\n",
    "        x[i, t, char_indices[char]] = 1\n",
    "    y[i, char_indices[next_chars[i]]] = 1"
   ]
  },
  {
   "cell_type": "code",
   "execution_count": 39,
   "metadata": {},
   "outputs": [],
   "source": [
    "model = Sequential()\n",
    "model.add(LSTM(128, input_shape=(maxlen, len(chars))))\n",
    "model.add(Dense(len(chars), activation='softmax'))\n",
    "\n",
    "optimizer = RMSprop(learning_rate=0.01)\n",
    "model.compile(loss='categorical_crossentropy', optimizer=optimizer)"
   ]
  },
  {
   "cell_type": "code",
   "execution_count": 40,
   "metadata": {},
   "outputs": [],
   "source": [
    "checkpoint = ModelCheckpoint('assignment11_model.h5', monitor='loss', save_best_only=True, mode='min')"
   ]
  },
  {
   "cell_type": "code",
   "execution_count": 41,
   "metadata": {},
   "outputs": [],
   "source": [
    "def sample(preds, temperature=1.0):\n",
    "    preds = np.asarray(preds).astype('float64')\n",
    "    preds = np.log(preds) / temperature\n",
    "    exp_preds = np.exp(preds)\n",
    "    preds = exp_preds / np.sum(exp_preds)\n",
    "    probas = np.random.multinomial(1, preds, 1)\n",
    "    return np.argmax(probas)"
   ]
  },
  {
   "cell_type": "code",
   "execution_count": 42,
   "metadata": {},
   "outputs": [
    {
     "name": "stdout",
     "output_type": "stream",
     "text": [
      "epoch 1\n",
      "2659/2659 [==============================] - 100s 37ms/step - loss: 1.7032\n",
      "epoch 2\n",
      "2659/2659 [==============================] - 105s 39ms/step - loss: 1.4473\n",
      "epoch 3\n",
      "2659/2659 [==============================] - 106s 40ms/step - loss: 1.3906\n",
      "epoch 4\n",
      "2659/2659 [==============================] - 104s 39ms/step - loss: 1.3588\n",
      "epoch 5\n",
      "2659/2659 [==============================] - 99s 37ms/step - loss: 1.3381\n",
      "epoch 6\n",
      "2659/2659 [==============================] - 101s 38ms/step - loss: 1.3206\n",
      "epoch 7\n",
      "2659/2659 [==============================] - 95s 36ms/step - loss: 1.3100\n",
      "epoch 8\n",
      "2659/2659 [==============================] - 100s 38ms/step - loss: 1.3013\n",
      "epoch 9\n",
      "2659/2659 [==============================] - 101s 38ms/step - loss: 1.2940\n",
      "epoch 10\n",
      "2659/2659 [==============================] - 96s 36ms/step - loss: 1.2872\n",
      "epoch 11\n",
      "2659/2659 [==============================] - 95s 36ms/step - loss: 1.2798\n",
      "epoch 12\n",
      "2659/2659 [==============================] - 96s 36ms/step - loss: 1.2732\n",
      "epoch 13\n",
      "2659/2659 [==============================] - 97s 37ms/step - loss: 1.2691\n",
      "epoch 14\n",
      "2659/2659 [==============================] - 93s 35ms/step - loss: 1.2650\n",
      "epoch 15\n",
      "2659/2659 [==============================] - 92s 35ms/step - loss: 1.2611\n",
      "epoch 16\n",
      "2659/2659 [==============================] - 97s 37ms/step - loss: 1.2568\n",
      "epoch 17\n",
      "2659/2659 [==============================] - 93s 35ms/step - loss: 1.2543\n",
      "epoch 18\n",
      "2659/2659 [==============================] - 94s 35ms/step - loss: 1.2506\n",
      "epoch 19\n",
      "2659/2659 [==============================] - 123s 46ms/step - loss: 1.2483\n"
     ]
    },
    {
     "name": "stderr",
     "output_type": "stream",
     "text": [
      "C:\\Users\\Gabe\\AppData\\Local\\Temp\\ipykernel_23540\\2163503365.py:3: RuntimeWarning: divide by zero encountered in log\n",
      "  preds = np.log(preds) / temperature\n"
     ]
    }
   ],
   "source": [
    "import random, os\n",
    "\n",
    "if not os.path.exists('results'):\n",
    "    os.makedirs('results')\n",
    "\n",
    "for epoch in range(1, 20):\n",
    "    print('epoch', epoch)\n",
    "    epoch_results = (f'results/epoch_{epoch}_results.md')\n",
    "    # Fit the model for 1 epoch on the available training data\n",
    "    model.fit(x, y,\n",
    "              batch_size=128,\n",
    "              epochs=1)\n",
    "\n",
    "    with open(epoch_results, 'w') as f:\n",
    "        start_index = random.randint(0, len(text) - maxlen - 1)\n",
    "        generated_text = text[start_index: start_index + maxlen]\n",
    "        f.write('--- Generating with seed: \"' + generated_text + '\"\\n')\n",
    "\n",
    "        for temperature in [0.2, 0.5, 1.0, 1.2]:\n",
    "            f.write('------ temperature:' + str(temperature) + \"\\n\")\n",
    "            f.write(generated_text)\n",
    "\n",
    "            for i in range(400):\n",
    "                sampled = np.zeros((1, maxlen, len(chars)))\n",
    "                for t, char in enumerate(generated_text):\n",
    "                    sampled[0, t, char_indices[char]] = 1.\n",
    "\n",
    "                preds = model.predict(sampled, verbose=0)[0]\n",
    "                next_index = sample(preds, temperature)\n",
    "                next_char = chars[next_index]\n",
    "\n",
    "                generated_text += next_char\n",
    "                generated_text = generated_text[1:]\n",
    "\n",
    "                f.write(next_char)\n",
    "            f.write('\\n')"
   ]
  }
 ],
 "metadata": {
  "kernelspec": {
   "display_name": "base",
   "language": "python",
   "name": "python3"
  },
  "language_info": {
   "codemirror_mode": {
    "name": "ipython",
    "version": 3
   },
   "file_extension": ".py",
   "mimetype": "text/x-python",
   "name": "python",
   "nbconvert_exporter": "python",
   "pygments_lexer": "ipython3",
   "version": "3.9.13"
  },
  "orig_nbformat": 4
 },
 "nbformat": 4,
 "nbformat_minor": 2
}
